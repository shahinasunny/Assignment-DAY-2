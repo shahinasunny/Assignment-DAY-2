{
 "cells": [
  {
   "cell_type": "code",
   "execution_count": 3,
   "metadata": {},
   "outputs": [
    {
     "name": "stdout",
     "output_type": "stream",
     "text": [
      "Enter a number5\n",
      "0.26785714285714285\n"
     ]
    }
   ],
   "source": [
    "\n",
    "\n",
    "a=int(input(\"Enter a number\"))\n",
    "numa=2*a+5\n",
    "demon=a**2+5*a+6\n",
    "res=numa/demon\n",
    "print(res)"
   ]
  },
  {
   "cell_type": "code",
   "execution_count": 6,
   "metadata": {},
   "outputs": [
    {
     "name": "stdout",
     "output_type": "stream",
     "text": [
      "Enter a number5\n",
      "3.7333333333333334\n"
     ]
    }
   ],
   "source": [
    "a=int(input(\"Enter a number\"))\n",
    "numa=a**2+5*a+6\n",
    "demon=2*a+5\n",
    "res=numa/demon\n",
    "print(res)\n"
   ]
  },
  {
   "cell_type": "code",
   "execution_count": 9,
   "metadata": {},
   "outputs": [
    {
     "name": "stdout",
     "output_type": "stream",
     "text": [
      "Enter a number5\n",
      "98\n"
     ]
    }
   ],
   "source": [
    "a=int(input(\"Enter a number\"))\n",
    "numa=2*a-3\n",
    "demon=a+9\n",
    "res=numa*demon\n",
    "print(res)"
   ]
  },
  {
   "cell_type": "code",
   "execution_count": null,
   "metadata": {},
   "outputs": [],
   "source": [
    "attempts=0\n",
    "while attempts<5:\n",
    "    username=input('username?')\n",
    "    password=input('password?')\n",
    "    if username=='correctusername'and password=='correctpassword':\n",
    "        print('you are in!')\n",
    "        break\n",
    "    elif username!='correctusername'and password=='correctpassword':\n",
    "        username=input(\"enter the correct username\")\n",
    "        attempts+=1\n",
    "    elif username=='correctusername'and password!='correctpassword':\n",
    "        password=input(\"enter the correct password\")\n",
    "        attempts+=1\n",
    "    else:\n",
    "        print(\"Inorrect details.Try again\")\n",
    "        break\n",
    "if attempts>=5:\n",
    "    print(\"Too many attempts u have been blocked for 24hrs\")\n",
    "        "
   ]
  },
  {
   "cell_type": "code",
   "execution_count": null,
   "metadata": {},
   "outputs": [],
   "source": []
  },
  {
   "cell_type": "code",
   "execution_count": null,
   "metadata": {},
   "outputs": [],
   "source": []
  },
  {
   "cell_type": "code",
   "execution_count": null,
   "metadata": {},
   "outputs": [],
   "source": []
  },
  {
   "cell_type": "code",
   "execution_count": null,
   "metadata": {},
   "outputs": [],
   "source": []
  }
 ],
 "metadata": {
  "kernelspec": {
   "display_name": "Python 3",
   "language": "python",
   "name": "python3"
  }
 },
 "nbformat": 4,
 "nbformat_minor": 4
}
